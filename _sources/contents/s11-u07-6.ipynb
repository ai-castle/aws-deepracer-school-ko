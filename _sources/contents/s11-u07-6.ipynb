{
 "cells": [
  {
   "attachments": {},
   "cell_type": "markdown",
   "metadata": {},
   "source": [
    "# 모델 업로드 및 리소스 정리"
   ]
  },
  {
   "attachments": {},
   "cell_type": "markdown",
   "metadata": {},
   "source": [
    "## 모델 업로드\n",
    "\n",
    "- `dr-upload-model` : 온라인 모델을 업로드\n",
    "  - 업로드 버킷으로 별도 폴더 생성\n",
    "  - default : 최근 체크포인트 모델을 가져옴\n",
    "  - `-b` 옵션 : 최상위 체크포인트 모델 가져오기\n",
    "\n",
    "\n",
    "- `dr-upload-car-zip` : 오프라인 모델을 업로드\n",
    "  - 항상 최근 체크포인트 모델만 가능\n",
    "  - 로컬 버킷안에 tar.gz 파일 형식으로 업로드 됨."
   ]
  },
  {
   "attachments": {},
   "cell_type": "markdown",
   "metadata": {},
   "source": [
    "## 정리해야 할 리소스 정리\n",
    "\n",
    "- 템플릿\n",
    "- AMI\n",
    "- 스냅샷\n",
    "- S3 버킷 파일\n",
    "- 보안그룹\n",
    "- EC2 Role\n"
   ]
  }
 ],
 "metadata": {
  "kernelspec": {
   "display_name": "Python 3",
   "language": "python",
   "name": "python3"
  },
  "language_info": {
   "codemirror_mode": {
    "name": "ipython",
    "version": 3
   },
   "file_extension": ".py",
   "mimetype": "text/x-python",
   "name": "python",
   "nbconvert_exporter": "python",
   "pygments_lexer": "ipython3",
   "version": "3.10.6"
  },
  "orig_nbformat": 4,
  "vscode": {
   "interpreter": {
    "hash": "31f2aee4e71d21fbe5cf8b01ff0e069b9275f58929596ceb00d14d90e3e16cd6"
   }
  }
 },
 "nbformat": 4,
 "nbformat_minor": 2
}
