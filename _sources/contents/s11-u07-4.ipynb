{
 "cells": [
  {
   "attachments": {},
   "cell_type": "markdown",
   "metadata": {},
   "source": [
    "# 훈련 실행하기"
   ]
  },
  {
   "attachments": {},
   "cell_type": "markdown",
   "metadata": {},
   "source": [
    "## tmux\n",
    "\n",
    "```bash\n",
    "# tmux 실행\n",
    "tmux\n",
    "\n",
    "```\n",
    "\n",
    "- 백그라운드 및 다중 터미널 분할\n",
    "- tmux 명령어 및 단축키 \n",
    "  - `tmux new -s <session-name>` : 지정한 세션 명으로 세션 시작\n",
    "  - `tmux ls` : 세션 목록 확인\n",
    "  - `tmux attach -t <session-name>` : 세션 접속\n",
    "  - `ctrl+b`, `%` : 터미널 세로 분할\n",
    "  - `ctrl+b`, `\"` : 터미널 가로 분할\n",
    "  - `ctrl+b`, `d` : 세션 빠져나오기"
   ]
  },
  {
   "attachments": {},
   "cell_type": "markdown",
   "metadata": {},
   "source": [
    "## 실행\n",
    "\n",
    "### 기본 명령어\n",
    "- `dr-update` : configure 업데이트\n",
    "- `dr-upload-custom-files` : custom 업데이트\n",
    "- `dr-stop-training ` : 훈련 작업 종료\n",
    "- `dr-start-training` : 훈련 시작\n",
    "  - `-w` (wipes) 옵션 : 모델명이 있는 폴더에 데이터가 존재하면 제거\n",
    "- `dr-increment-training -f` : 모델명 뒤의 `-숫자`를 하나 더하여 클론 훈련 진행\n",
    "  - (예) 현재 모델명이 `test-1` 으로 훈련중일 때, 아래와 같이 명령어를 작성하면 `test-2`로 클론한 모델이 훈련 됨.\n",
    "  \n",
    "### 명령어 세트\n",
    "- 실행\n",
    "  ```bash\n",
    "  dr-stop-training && dr-update && dr-upload-custom-files && dr-start-training\n",
    "\n",
    "  ```\n",
    "\n",
    "- 증가 실행\n",
    "  ```bash\n",
    "  dr-stop-training && dr-increment-training -f && dr-update && dr-upload-custom-files && dr-start-training\n",
    "\n",
    "  ```\n",
    "\n",
    "### 트러블슈팅\n",
    "- `Selected path s3://.../... Delete it, or use -w option. Exiting.` 에러\n",
    "  - 버킷안에 이미 지정한 모델명으로 된 폴더가 존재하여 발생하는 에러.\n",
    "  - 해당 모델명 폴더를 삭제하거나 `-w` 옵션(wipes)을 줘서 자동으로 삭제되도록 한다.\n",
    "    ```bash\n",
    "    dr-stop-training && dr-start-training -w\n",
    "    \n",
    "    ````    \n",
    "- `sagemaker is not running` 에러\n",
    "  - 흔히 발생하는 일시적 오류이다. 마찬가지로 아래 명령어를 통해 다시 시도한다.\n",
    "    ```bash\n",
    "    dr-stop-training && dr-start-training -w\n",
    "    \n",
    "    ````    \n"
   ]
  }
 ],
 "metadata": {
  "kernelspec": {
   "display_name": "Python 3",
   "language": "python",
   "name": "python3"
  },
  "language_info": {
   "codemirror_mode": {
    "name": "ipython",
    "version": 3
   },
   "file_extension": ".py",
   "mimetype": "text/x-python",
   "name": "python",
   "nbconvert_exporter": "python",
   "pygments_lexer": "ipython3",
   "version": "3.10.6"
  },
  "orig_nbformat": 4,
  "vscode": {
   "interpreter": {
    "hash": "31f2aee4e71d21fbe5cf8b01ff0e069b9275f58929596ceb00d14d90e3e16cd6"
   }
  }
 },
 "nbformat": 4,
 "nbformat_minor": 2
}
