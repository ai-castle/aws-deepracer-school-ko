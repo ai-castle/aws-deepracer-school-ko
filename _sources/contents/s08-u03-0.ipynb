{
 "cells": [
  {
   "attachments": {},
   "cell_type": "markdown",
   "metadata": {},
   "source": [
    "# 기타 셈플"
   ]
  },
  {
   "attachments": {},
   "cell_type": "markdown",
   "metadata": {},
   "source": [
    "## direction-1\n"
   ]
  },
  {
   "cell_type": "code",
   "execution_count": 3,
   "metadata": {},
   "outputs": [],
   "source": [
    "import math\n",
    "\n",
    "def reward_function(params):\n",
    "    waypoints = params['waypoints']\n",
    "    closest_waypoints = params['closest_waypoints']\n",
    "    heading = params['heading']\n",
    "    \n",
    "    # 현재 에이전트와 가장 가까운 waypoint의 위치를 가져옵니다.\n",
    "    prev_point = waypoints[closest_waypoints[0]]\n",
    "    next_point = waypoints[closest_waypoints[1]]\n",
    "\n",
    "    # track_direction 을 계산 \n",
    "    track_direction = math.atan2(next_point[1] - prev_point[1], next_point[0] - prev_point[0])\n",
    "\n",
    "    # 각의 차이 (direction_diff) 계산\n",
    "    direction_diff = abs(track_direction - math.radians(heading))\n",
    "    \n",
    "    # 보상 결정\n",
    "    reward = math.cos(direction_diff*3)\n",
    "    \n",
    "    return float(reward)"
   ]
  },
  {
   "attachments": {},
   "cell_type": "markdown",
   "metadata": {},
   "source": [
    "## direction-2 (더 멀리보기)"
   ]
  },
  {
   "cell_type": "code",
   "execution_count": 2,
   "metadata": {},
   "outputs": [],
   "source": [
    "import math\n",
    "\n",
    "next_interval = 5\n",
    "def reward_function(params):\n",
    "    waypoints = params['waypoints']\n",
    "    closest_waypoints = params['closest_waypoints']\n",
    "    heading = params['heading']\n",
    "    \n",
    "    waypoints_count = len(waypoints) - 1\n",
    "    \n",
    "    # 현재 에이전트와 가장 가까운 waypoint의 위치를 가져옵니다.\n",
    "    prev_point = waypoints[closest_waypoints[0]]\n",
    "    next_point = waypoints[(closest_waypoints[1]+next_interval) % waypoints_count]\n",
    "\n",
    "    # track_direction 을 계산 \n",
    "    track_direction = math.atan2(next_point[1] - prev_point[1], next_point[0] - prev_point[0])\n",
    "\n",
    "    # 각의 차이 (direction_diff) 계산\n",
    "    direction_diff = abs(track_direction - math.radians(heading))\n",
    "    \n",
    "    # 보상 결정\n",
    "    reward = math.cos(direction_diff*3)\n",
    "    \n",
    "    return float(reward)"
   ]
  },
  {
   "attachments": {},
   "cell_type": "markdown",
   "metadata": {},
   "source": [
    "## Speed - 1"
   ]
  },
  {
   "cell_type": "code",
   "execution_count": null,
   "metadata": {},
   "outputs": [],
   "source": [
    "import math\n",
    "\n",
    "def reward_function(params):\n",
    "    waypoints = params['waypoints']\n",
    "    closest_waypoints = params['closest_waypoints']\n",
    "    heading = params['heading']\n",
    "    speed = params['speed']\n",
    "    \n",
    "    # 현재 에이전트와 가장 가까운 waypoint의 위치를 가져옵니다.\n",
    "    prev_point = waypoints[closest_waypoints[0]]\n",
    "    next_point = waypoints[closest_waypoints[1]]\n",
    "\n",
    "    track_direction_vector = [next_point[0] - prev_point[0], next_point[1] - prev_point[1]]\n",
    "    \n",
    "    heading_rad = math.radians(heading)\n",
    "    car_speed_vector = [math.cos(heading_rad) * speed, math.sin(heading_rad) * speed]\n",
    "\n",
    "    inner_product = track_direction_vector[0] * car_speed_vector[0] + track_direction_vector[1] * car_speed_vector[1] \n",
    "    \n",
    "    # 보상 결정\n",
    "    reward = inner_product\n",
    "    \n",
    "    return float(reward)"
   ]
  },
  {
   "attachments": {},
   "cell_type": "markdown",
   "metadata": {},
   "source": [
    "## Speed -2"
   ]
  },
  {
   "cell_type": "code",
   "execution_count": null,
   "metadata": {},
   "outputs": [],
   "source": [
    "import math\n",
    "\n",
    "next_interval = 5\n",
    "def reward_function(params):\n",
    "    waypoints = params['waypoints']\n",
    "    closest_waypoints = params['closest_waypoints']\n",
    "    heading = params['heading']\n",
    "    speed = params['speed']\n",
    "    steering_angle = params['steering_angle']\n",
    "    \n",
    "    waypoints_count = len(waypoints) - 1\n",
    "\n",
    "    # 현재 에이전트와 가장 가까운 waypoint의 위치를 가져옵니다.\n",
    "    prev_point = waypoints[closest_waypoints[0]]\n",
    "    next_point = waypoints[(closest_waypoints[1]+next_interval) % waypoints_count]\n",
    "\n",
    "    track_direction_vector = [next_point[0] - prev_point[0], next_point[1] - prev_point[1]]\n",
    "    \n",
    "    heading_rad = math.radians(heading)\n",
    "    steering_rad = math.radians(steering_angle)\n",
    "    car_speed_vector = [math.cos(heading_rad + steering_rad) * speed, math.sin(heading_rad + steering_rad) * speed]\n",
    "\n",
    "    inner_product = track_direction_vector[0] * car_speed_vector[0] + track_direction_vector[1] * car_speed_vector[1] \n",
    "    \n",
    "    # 보상 결정\n",
    "    reward = inner_product ** 3\n",
    "    \n",
    "    return float(reward)"
   ]
  },
  {
   "attachments": {},
   "cell_type": "markdown",
   "metadata": {},
   "source": [
    "## Progress - 1\n",
    "\n",
    "- 참고: steps 값이 2부터 시작 됨"
   ]
  },
  {
   "cell_type": "code",
   "execution_count": null,
   "metadata": {},
   "outputs": [],
   "source": [
    "def reward_function(params):\n",
    "    track_length = params['track_length']\n",
    "    steps = params['steps']\n",
    "    progress = params['progress']\n",
    "\n",
    "    global progress_prev\n",
    "    if steps <= 2 : \n",
    "        progress_prev = progress\n",
    "    \n",
    "    delta_progress = progress - progress_prev\n",
    "    delta_projection = track_length * (delta_progress/100)\n",
    "    delta_projection = max(min(delta_projection,1),-1)\n",
    "    \n",
    "    reward = delta_projection ** 3\n",
    "    progress_prev = progress\n",
    "    return float(reward)"
   ]
  },
  {
   "attachments": {},
   "cell_type": "markdown",
   "metadata": {},
   "source": [
    "## Progress - 2 (최단거리)\n",
    "\n",
    "- 참고: steps 값이 2부터 시작 됨"
   ]
  },
  {
   "cell_type": "code",
   "execution_count": null,
   "metadata": {},
   "outputs": [],
   "source": [
    "def reward_function(params):\n",
    "    track_length = params['track_length']\n",
    "    steps = params['steps']\n",
    "    progress = params['progress']\n",
    "    x = params['x']\n",
    "    y = params['y']\n",
    "\n",
    "    global progress_prev, x_prev, y_prev\n",
    "    if steps <= 2 : \n",
    "        progress_prev, x_prev, y_prev = progress, x, y\n",
    "    \n",
    "    delta_progress = progress - progress_prev\n",
    "    delta_projection = track_length * (delta_progress/100)\n",
    "    delta_projection = max(min(delta_projection,1),-1)\n",
    "    delta_position = ((x - x_prev)**2 + (y - y_prev)**2)**(1/2)\n",
    "    \n",
    "    reward = (2*delta_projection - delta_position)**3\n",
    "\n",
    "    progress_prev, x_prev, y_prev = progress, x, y\n",
    "    return float(reward)"
   ]
  },
  {
   "attachments": {},
   "cell_type": "markdown",
   "metadata": {},
   "source": [
    "## confusion - 1"
   ]
  },
  {
   "cell_type": "code",
   "execution_count": null,
   "metadata": {},
   "outputs": [],
   "source": [
    "import math\n",
    "\n",
    "def reward_function(params):  \n",
    "    \n",
    "     ########## [reward_wheels] all_wheels_on_track ########## \n",
    "    all_wheels_on_track = params['all_wheels_on_track']\n",
    "    if all_wheels_on_track :\n",
    "        reward_wheels = 1 \n",
    "    else:\n",
    "        reward_wheels = 0\n",
    "    \n",
    "    ############## [reward_speed] speed #############\n",
    "    speed = params['speed']\n",
    "    reward_speed = speed / 2\n",
    "    \n",
    "    ############## [reward_direction] direction_diff #############\n",
    "    waypoints = params['waypoints']\n",
    "    closest_waypoints = params['closest_waypoints']\n",
    "    heading = params['heading']\n",
    "    \n",
    "    # 현재 에이전트와 가장 가까운 waypoint의 위치를 가져옵니다.\n",
    "    next_point = waypoints[closest_waypoints[1]]\n",
    "    prev_point = waypoints[closest_waypoints[0]]\n",
    "\n",
    "    # track_direction 을 계산 \n",
    "    track_direction = math.atan2(next_point[1] - prev_point[1], next_point[0] - prev_point[0])\n",
    "    \n",
    "    # 보상 결정\n",
    "    direction_diff = track_direction - math.radians(heading)\n",
    "    reward_direction = math.cos(direction_diff)\n",
    "        \n",
    "    ########### [reward weight sum] ############ \n",
    "    reward = 1*reward_wheels + 2*reward_speed + 2*reward_direction\n",
    "    \n",
    "    return float(reward)"
   ]
  },
  {
   "attachments": {},
   "cell_type": "markdown",
   "metadata": {},
   "source": [
    "## Confusion -2"
   ]
  },
  {
   "cell_type": "code",
   "execution_count": null,
   "metadata": {},
   "outputs": [],
   "source": [
    "import math\n",
    "\n",
    "def distance_from_line(x, y, x1, y1, x2, y2):\n",
    "    return abs((y2-y1)*x - (x2-x1)*y + (x2*y1 - x1*y2)) / math.sqrt((y2-y1)**2 + (x2-x1)**2)\n",
    "\n",
    "def reward_function(params):\n",
    "    waypoints2 = # Capston\n",
    "    waypoints = params['waypoints']\n",
    "    waypoints_len = len(waypoints) - 1\n",
    "    closest_waypoints = params['closest_waypoints']\n",
    "    closest_previous, closest_next = closest_waypoints\n",
    "    heading = params['heading']\n",
    "    heading_rad = math.radians(heading)\n",
    "\n",
    "    x_target_prev, y_target_prev, speed_target_prev, steering_target_prev = waypoints2[closest_previous]\n",
    "    x_target_front, y_target_front, speed_target_front, steering_target_front = waypoints2[closest_next]\n",
    "    speed_target_mean = (speed_target_prev + speed_target_front)/2\n",
    "    steering_target_mean = (steering_target_prev + steering_target_front)/2\n",
    "    steering_target_mean_rad  = math.radians(steering_target_mean)\n",
    "    target_heading = math.atan2(y_target_front - y_target_prev, x_target_front - x_target_prev)\n",
    "    target_heading_rad = math.radians(target_heading)\n",
    "\n",
    "    x = params['x']\n",
    "    y = params['y']\n",
    "\n",
    "    track_length = params['track_length']\n",
    "    track_length_half = track_length / 2\n",
    "\n",
    "    speed = params['speed']\n",
    "    steering_angle = params['steering_angle']\n",
    "    steering_rad = math.radians(steering_angle)\n",
    "\n",
    "    distance_from_wp2_line = distance_from_line(x, y, x_target_prev, y_target_prev, x_target_front, y_target_front)\n",
    "    reward_position = max(0, 1 - (distance_from_wp2_line / track_length_half))\n",
    "    \n",
    "    reward_heading = max(0, 1 - math.cos((target_heading_rad - heading_rad) * 3))\n",
    "\n",
    "    reward_speed = max(0, 1 - ((speed_target_mean - speed) / speed_target_mean) ** 2)\n",
    "\n",
    "    reward_steering = max(0, math.cos((steering_target_mean_rad - steering_rad) * 3))\n",
    "\n",
    "    reward = reward_position * reward_heading * reward_speed * reward_steering\n",
    "\n",
    "    return float(reward)"
   ]
  },
  {
   "attachments": {},
   "cell_type": "markdown",
   "metadata": {},
   "source": [
    "## similar to supervised learning - 1"
   ]
  },
  {
   "cell_type": "code",
   "execution_count": null,
   "metadata": {},
   "outputs": [],
   "source": [
    "import math\n",
    "\n",
    "next_interval = 5\n",
    "def reward_function(params):\n",
    "    x = params['x']\n",
    "    y = params['y']\n",
    "    steering_angle = params['steering_angle']\n",
    "    steering_angle_rad = math.radians(steering_angle)\n",
    "    heading = params['heading']\n",
    "    heading_rad = math.radians(heading)\n",
    "    closest_waypoints = params['closest_waypoints']\n",
    "    waypoints = params['waypoints']\n",
    "    waypoints_len = len(waypoints) - 1\n",
    "\n",
    "    # 타켓 웨이포인트 좌표 구하기\n",
    "    closest_previous, closest_next = closest_waypoints\n",
    "    target_waypoint_idx = (closest_next + next_interval) % waypoints_len\n",
    "    target_waypoint = waypoints[target_waypoint_idx]\n",
    "    x_target, y_target = target_waypoint\n",
    "\n",
    "    # 현재 위치에서 타켓 웨이포인트로의 벡터의 라디안 각 구하기\n",
    "    x_target_vector = x_target - x\n",
    "    y_target_vector = y_target - y\n",
    "    target_rad = math.atan2(y_target_vector, x_target_vector)\n",
    "\n",
    "    # 정답 값\n",
    "    target_steering_angle_rad = target_rad - heading_rad\n",
    "\n",
    "    # 손실과 보상\n",
    "    loss = math.sin(target_steering_angle_rad - steering_angle_rad) ** 2\n",
    "    reward = 1 - loss\n",
    "\n",
    "    return float(reward)"
   ]
  },
  {
   "attachments": {},
   "cell_type": "markdown",
   "metadata": {},
   "source": [
    "<!-- ```json\n",
    "{\n",
    "\"action_space\" : [\n",
    "    {\"steering_angle\":0.0,\"speed\":4.0,\"index\":0},\n",
    "    {\"steering_angle\":0.0,\"speed\":2.4,\"index\":1},\n",
    "    {\"steering_angle\":5.0,\"speed\":3.5,\"index\":2},\n",
    "    {\"steering_angle\":5.0, \"speed\":1.7,\"index\":3},\n",
    "    {\"steering_angle\":10.0,\"speed\":2.4,\"index\":4},\n",
    "    {\"steering_angle\":10.0,\"speed\":1.5,\"index\":5},\n",
    "    {\"steering_angle\":20.0,\"speed\":2.6,\"index\":6},\n",
    "    {\"steering_angle\":20.0,\"speed\":1.3,\"index\":7},\n",
    "    {\"steering_angle\":20.8,\"speed\":1.8,\"index\":8},\n",
    "    {\"steering_angle\":-20.8,\"speed\":1.8,\"index\":9},\n",
    "    {\"steering_angle\":26.0,\"speed\":1.5,\"index\":10},\n",
    "    {\"steering_angle\":-.0,\"speed\":1.5,\"index\":11}\n",
    "],\n",
    "\"sensor\": [\"FRONT_FACING_CAMERA\"],\n",
    "\"neural_network\": \"DEEP_CONVOLUTIONAL_NETWORK_SHALLOW\",\n",
    "\"training_algorithm\": \"clipped_ppo\", \n",
    "\"action_space_type\": \"discrete\",\n",
    "\"version\": \"4\"\n",
    "}\n",
    "``` -->"
   ]
  }
 ],
 "metadata": {
  "kernelspec": {
   "display_name": "Python 3",
   "language": "python",
   "name": "python3"
  },
  "language_info": {
   "codemirror_mode": {
    "name": "ipython",
    "version": 3
   },
   "file_extension": ".py",
   "mimetype": "text/x-python",
   "name": "python",
   "nbconvert_exporter": "python",
   "pygments_lexer": "ipython3",
   "version": "3.10.6"
  },
  "orig_nbformat": 4,
  "vscode": {
   "interpreter": {
    "hash": "31f2aee4e71d21fbe5cf8b01ff0e069b9275f58929596ceb00d14d90e3e16cd6"
   }
  }
 },
 "nbformat": 4,
 "nbformat_minor": 2
}
