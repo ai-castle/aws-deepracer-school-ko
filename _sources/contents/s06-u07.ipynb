{
 "cells": [
  {
   "attachments": {},
   "cell_type": "markdown",
   "metadata": {},
   "source": [
    "# 강화학습 이슈"
   ]
  },
  {
   "attachments": {},
   "cell_type": "markdown",
   "metadata": {},
   "source": [
    "<p style=\"display: flex; justify-content: space-between; align-items: center;\">\n",
    "    <b>Unit 07. 강화학습 이슈</b>\n",
    "    <span><b>Section 06. 강화학습</b></span>\n",
    "</p>"
   ]
  },
  {
   "attachments": {},
   "cell_type": "markdown",
   "metadata": {},
   "source": [
    "---\n",
    "<h3 style=\"display: flex; justify-content: space-between; align-items: center;\">\n",
    "    PPT\n",
    "    <span style=\"font-size: 0.6em;\">\n",
    "        <a href=\"\" target=\"_blank\">🔗 Link </a>\n",
    "    </span>\n",
    "</h3>"
   ]
  },
  {
   "attachments": {},
   "cell_type": "markdown",
   "metadata": {},
   "source": [
    "<div style=\"position: relative; width: 100%; height: 0; padding-top: 56.2500%;\n",
    " padding-bottom: 0; box-shadow: 0 2px 8px 0 rgba(63,69,81,0.16); margin-top: 1.6em; margin-bottom: 0.9em; overflow: hidden;\n",
    " border-radius: 8px; will-change: transform;\">\n",
    "  <iframe loading=\"lazy\" style=\"position: absolute; width: 100%; height: 100%; top: 0; left: 0; border: none; padding: 0;margin: 0;\"\n",
    "    src=\"https:&#x2F;&#x2F;www.canva.com&#x2F;design&#x2F;DAFdEgGJ3uM&#x2F;view?embed\" allowfullscreen=\"allowfullscreen\" allow=\"fullscreen\">\n",
    "  </iframe>\n",
    "</div>"
   ]
  },
  {
   "attachments": {},
   "cell_type": "markdown",
   "metadata": {},
   "source": [
    "---\n",
    "<h3 style=\"display: flex; justify-content: space-between; align-items: center;\">\n",
    "    Video\n",
    "    <span style=\"font-size: 0.7em;\">\n",
    "        <a href=\"../premium/01.html\" target=\"_blank\" title=\"이 영상은 프리미엄 과정에 등록된 계정에서만 볼 수 있습니다\">🚀 프리미엄 과정 </a> \n",
    "    </span>\n",
    "    <span style=\"font-size: 0.6em;\">\n",
    "        <a href=\"\" title=\"인프런에서도 이 영상을 시청할 수 있습니다\"><img src=\"https://cdn.inflearn.com/public/users/thumbnails/234401/660102d4-1e7b-4c43-a7ba-7d0ee6d96b83\" height=\"14px\" style=\"vertical-align: middle; padding-right: 3px;\"> 인프런</a> |\n",
    "        <a href=\"\" target=\"_blank\">🔗 Link </a>\n",
    "    </span>\n",
    "</h3>"
   ]
  },
  {
   "attachments": {},
   "cell_type": "markdown",
   "metadata": {},
   "source": [
    "<div style=\"position: relative; width: 100%; height: 0; padding-top: 56.2500%;\n",
    " padding-bottom: 0; box-shadow: 0 2px 8px 0 rgba(63,69,81,0.16); margin-top: 1.6em; margin-bottom: 0.9em; overflow: hidden;\n",
    " border-radius: 8px; will-change: transform;\">\n",
    "  <iframe loading=\"lazy\" style=\"position: absolute; width: 100%; height: 100%; top: 0; left: 0; border: none; padding: 0;margin: 0;\"\n",
    "    src=\"https://drive.google.com/file/d/1189j2pJsRSJ7lnMWlKOBLqUjJB9r2bjf/preview\" \n",
    "    allowfullscreen=\"allowfullscreen\" \n",
    "    allow=\"fullscreen\">\n",
    "  </iframe>\n",
    "</div>"
   ]
  }
 ],
 "metadata": {
  "kernelspec": {
   "display_name": "Python 3",
   "language": "python",
   "name": "python3"
  },
  "language_info": {
   "codemirror_mode": {
    "name": "ipython",
    "version": 3
   },
   "file_extension": ".py",
   "mimetype": "text/x-python",
   "name": "python",
   "nbconvert_exporter": "python",
   "pygments_lexer": "ipython3",
   "version": "3.10.6"
  },
  "orig_nbformat": 4,
  "vscode": {
   "interpreter": {
    "hash": "31f2aee4e71d21fbe5cf8b01ff0e069b9275f58929596ceb00d14d90e3e16cd6"
   }
  }
 },
 "nbformat": 4,
 "nbformat_minor": 2
}
