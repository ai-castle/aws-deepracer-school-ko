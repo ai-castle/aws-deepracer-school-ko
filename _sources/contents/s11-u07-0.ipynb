{
 "cells": [
  {
   "attachments": {},
   "cell_type": "markdown",
   "metadata": {},
   "source": [
    "# DRfC 시작하기"
   ]
  },
  {
   "attachments": {},
   "cell_type": "markdown",
   "metadata": {},
   "source": [
    "## 개요\n",
    "\n",
    "- [**DeepRacer for Cloud 공식 홈페이지**](https://aws-deepracer-community.github.io/deepracer-for-cloud/) \n",
    "- DRfC(Deepracer for Cloud)는 딥레이서를 콘솔이 아닌 클라우드 및 로컬에서 훈련시키는 것을 말합니다.\n",
    "  > 이러한 방식은 훈련 비용 절감 및 자유도가 높은 훈련 환경을 제공합니다.\n",
    "- **이 강의에서는 AWS Spot Instance를 활용한 모델 훈련 방법에 대해 소개합니다.**\n",
    "  > Spot Instance 란, 경매 방식으로 EC2의 남는 자원을 저렴한 비용으로 이용하는 것을 말합니다.\n",
    "- AWS EC2, S3, Ubuntu, Docker 등 다양한 배경지식이 필요로 합니다."
   ]
  },
  {
   "attachments": {},
   "cell_type": "markdown",
   "metadata": {},
   "source": [
    "## 관련 자료 Link\n",
    "\n",
    "- [DRfC 공식 사이트](https://aws-deepracer-community.github.io/deepracer-for-cloud/) \n",
    "- [DRfC Docker Hub](https://hub.docker.com/u/awsdeepracercommunity)\n",
    "- [트랙 정보](https://github.com/aws-deepracer-community/deepracer-race-data/tree/main/raw_data/tracks)\n",
    "- [하이퍼파라미터 설정 : Wiki](https://wiki.deepracing.io/Customise_Local_Training)\n",
    "- 스팟 인스턴스 실시간 요금 확인: [Link 1](https://aws.amazon.com/ko/ec2/spot/pricing) , [Link 2](https://instances.vantage.sh/)"
   ]
  },
  {
   "attachments": {},
   "cell_type": "markdown",
   "metadata": {},
   "source": [
    "## 스팟 인스턴스 요금 예시 (실시간 변동) \n",
    "\n",
    "|type|spot price (변동)|vCPU|Memory|GPU|동시훈련 가능 수|\n",
    "|----|----------|----|------|---|------|\n",
    "|c5.2xlarge|$0.173|8|16GB||1개|\n",
    "|c5.4xlarge|$0.268|16|32GB||3개|\n",
    "|g4dn.2xlarge|$0.2256|8|32GB|T4 16GB|1개|\n",
    "|g4dn.4xlarge|$0.3612|16|64GB|T4 16GB|3개|\n",
    "|g4dn.8xlarge|$0.6528|32|128GB|T4 16GB|8개|"
   ]
  },
  {
   "attachments": {},
   "cell_type": "markdown",
   "metadata": {},
   "source": [
    "## Service Quotas\n",
    "- GPU 인스턴스를 활용하면 훈련 속도가 훨씬 더 빠릅니다.\n",
    "- 그러나 AWS 개인 계정의 경우 GPU 인스턴스를 spot(경매) 방식으로 요청할 수 있는 할당량이 주어져있지 않습니다.\n",
    "- 만약, 개인 게정에서 GPU 인스턴스를 spot(경매) 요청을 하고자 한다면 Service Quotas 에서 할당량 증가를 요청해야 합니다.\n",
    "  - Service Quotas > AWS 서비스 > EC2 > All G and VT Spot Instance Requests > 할당량 증가 요청 > 할당량 값 변경 (32개 정도면 충분)\n",
    "- 할당량 증가 요청을 하면 검토 후 승인이 나야합니다. 그러나 승인이 거절되는 경우가 많습니다."
   ]
  },
  {
   "attachments": {},
   "cell_type": "markdown",
   "metadata": {},
   "source": [
    "## 사전 준비 사항\n",
    "\n",
    "1. S3 버킷 생성 (2개) --region us-east-1\n",
    "    - local 용도의 버킷 (예) drfc-....-local\n",
    "    - upload 용도의 버킷 (예) drfc-....-upload\n",
    "2. EC2 Role 생성\n",
    "    - S3 FullAccess\n",
    "3. Security Group 생성\n",
    "    - SSH : 22\n",
    "    - Web Monitoring : 8080-8100\n",
    "    - ~~VNC : 5900-5910~~\n",
    "    - ~~Jupyter : 8888~~\n",
    "4. 키페어 생성"
   ]
  }
 ],
 "metadata": {
  "kernelspec": {
   "display_name": "Python 3",
   "language": "python",
   "name": "python3"
  },
  "language_info": {
   "codemirror_mode": {
    "name": "ipython",
    "version": 3
   },
   "file_extension": ".py",
   "mimetype": "text/x-python",
   "name": "python",
   "nbconvert_exporter": "python",
   "pygments_lexer": "ipython3",
   "version": "3.10.6"
  },
  "orig_nbformat": 4,
  "vscode": {
   "interpreter": {
    "hash": "31f2aee4e71d21fbe5cf8b01ff0e069b9275f58929596ceb00d14d90e3e16cd6"
   }
  }
 },
 "nbformat": 4,
 "nbformat_minor": 2
}
