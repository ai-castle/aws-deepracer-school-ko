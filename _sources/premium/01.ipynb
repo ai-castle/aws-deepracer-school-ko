{
 "cells": [
  {
   "attachments": {},
   "cell_type": "markdown",
   "metadata": {},
   "source": [
    "# 프리미엄 과정 🚀"
   ]
  },
  {
   "attachments": {},
   "cell_type": "markdown",
   "metadata": {},
   "source": [
    "## 기본 vs 프리미엄\n",
    "\n",
    "||기본 🆓|프리미엄 🚀|\n",
    "|---|:-----:|:-----:|\n",
    "|**PPT**|⭕|⭕|\n",
    "|**Video**|❌|⭕|\n",
    "|**Q&A**|❌|⭕|"
   ]
  },
  {
   "attachments": {},
   "cell_type": "markdown",
   "metadata": {},
   "source": [
    "- PPT 와 Video는 뷰어로 제공되며 다운로드는 제공하지 않습니다.\n",
    "- `Q&A`는 동영상에 댓글달기를 통해 질문할 수 있습니다."
   ]
  }
 ],
 "metadata": {
  "kernelspec": {
   "display_name": "Python 3",
   "language": "python",
   "name": "python3"
  },
  "language_info": {
   "codemirror_mode": {
    "name": "ipython",
    "version": 3
   },
   "file_extension": ".py",
   "mimetype": "text/x-python",
   "name": "python",
   "nbconvert_exporter": "python",
   "pygments_lexer": "ipython3",
   "version": "3.10.6"
  },
  "orig_nbformat": 4,
  "vscode": {
   "interpreter": {
    "hash": "31f2aee4e71d21fbe5cf8b01ff0e069b9275f58929596ceb00d14d90e3e16cd6"
   }
  }
 },
 "nbformat": 4,
 "nbformat_minor": 2
}
