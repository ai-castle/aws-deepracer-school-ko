{
 "cells": [
  {
   "attachments": {},
   "cell_type": "markdown",
   "metadata": {},
   "source": [
    "# 비디오 재생 문제 해결하기"
   ]
  },
  {
   "attachments": {},
   "cell_type": "markdown",
   "metadata": {},
   "source": [
    "---\n",
    "## 필수 체크\n",
    "\n",
    "**비디오 재생에 문제가 생겼다면, 우선적으로 아래 사항을 만족하는지 확인하세요.**\n",
    "\n",
    "\n",
    "### 1. **크롬 웹브라우저**를 사용 중인지 확인\n",
    "   - 만약, 크롬이 설치되지 않았다면 ? >> [크롬 웹브라우저 다운로드](https://www.google.com/chrome/)\n",
    "\n",
    "\n",
    "### 2. **프리미엄 과정**에 등록된 **구글 계정**이 맞는지 확인\n",
    "   - 이곳의 모든 동영상은 프리미엄 과정에 등록 된 계정에서만 보입니다. (<a href=\"./01.html\"> 프리미엄 과정 알아보기</a>)\n",
    "   - 프리미엄 과정에 등록하려는 계정은 반드시 구글 계정이어야 합니다. 만약, 구글 계정이 아니라면 프리미엄 과정을 등록한 담당자에게 문의해야 합니다.\n",
    "\n",
    "\n",
    "### 3. 프리미엄 계정으로 정상적으로 로그인 되어있는지 확인\n",
    "   - [Intro Video Link](https://drive.google.com/file/d/1suVeliosNrG06iExIRWPIKJRfHXPQ0cJ/view)를 클릭하여 영상이 정상적으로 보여지는지 확인합니다. >> [Intro Video Link](https://drive.google.com/file/d/1suVeliosNrG06iExIRWPIKJRfHXPQ0cJ/view)\n",
    "   - 영상이 보이지 않고 \"액세스 권한 필요\"라는 페이지가 나온다면, 화면 하단에 로그인 된 계정을 확인합니다.\n",
    "   - 만약 로그인 된 계정이 프리미엄 계정이 아니라면 계정 이메일을 클릭한 후 프리미엄 계정으로 다시 로그인 합니다."
   ]
  },
  {
   "attachments": {},
   "cell_type": "markdown",
   "metadata": {},
   "source": [
    "---\n",
    "만약, 위 사항을 모두 만족하여도 영상이 보이지 않는다면, edu@ai-castle.com 로 소속 기관, 이메일, 증상 등을 작성하여 보내주세요."
   ]
  }
 ],
 "metadata": {
  "kernelspec": {
   "display_name": "Python 3",
   "language": "python",
   "name": "python3"
  },
  "language_info": {
   "codemirror_mode": {
    "name": "ipython",
    "version": 3
   },
   "file_extension": ".py",
   "mimetype": "text/x-python",
   "name": "python",
   "nbconvert_exporter": "python",
   "pygments_lexer": "ipython3",
   "version": "3.10.6"
  },
  "orig_nbformat": 4,
  "vscode": {
   "interpreter": {
    "hash": "31f2aee4e71d21fbe5cf8b01ff0e069b9275f58929596ceb00d14d90e3e16cd6"
   }
  }
 },
 "nbformat": 4,
 "nbformat_minor": 2
}
