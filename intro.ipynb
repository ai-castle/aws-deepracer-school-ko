{
 "cells": [
  {
   "attachments": {},
   "cell_type": "markdown",
   "metadata": {},
   "source": [
    "# AWS DeepRacer School"
   ]
  },
  {
   "attachments": {},
   "cell_type": "markdown",
   "metadata": {},
   "source": [
    "\n",
    "```{admonition} Contact : edu@ai-castle.com\n",
    "- DeepRacer 위탁 교육 및 행사에 관심이 있다면, 언제든 (주)에이아이캐슬에 문의하세요! \n",
    "- (주)에이아이캐슬에는 우수한 인공지능 강사와 운영진들이 당신을 기다리고 있습니다.\n",
    "```\n",
    "\n",
    "```{warning}\n",
    "- 이 곳의 자료들의 저작권은 (주)에이아이캐슬에 있습니다.\n",
    "- 본 자료들을 (주)에이아이캐슬의 허가 없이 배포 및 상업적 용도로 사용하는 것을 금합니다.\n",
    "```"
   ]
  },
  {
   "attachments": {},
   "cell_type": "markdown",
   "metadata": {},
   "source": [
    "## Course Introduction"
   ]
  },
  {
   "attachments": {},
   "cell_type": "markdown",
   "metadata": {},
   "source": [
    "<center>\n",
    "<iframe width=\"560\" height=\"315\" src=\"https://www.youtube.com/embed/zusmtXsAElA\" title=\"YouTube video player\" frameborder=\"0\" allow=\"accelerometer; autoplay; clipboard-write; encrypted-media; gyroscope; picture-in-picture; web-share\" allowfullscreen></iframe>\n",
    "</center>"
   ]
  },
  {
   "attachments": {},
   "cell_type": "markdown",
   "metadata": {},
   "source": [
    "**AWS DeepRacer를 통한 자율주행 자동차 과정에 오신 것을 환영합니다!**\n",
    "\n",
    "이 포괄적이고 매력적인 과정을 통해 인공지능(AI), 강화 학습, 자율주행 기술의 세계로 떠나는 흥미진진한 여행을 떠나보세요.  \n",
    "AWS DeepRacer는 독특한 방식으로 AI와 강화 학습을 즐겁고 쉽게 배울 수 있는 가장 빠른 방법으로, 자신만의 자율주행 자동차를 만드는 데 도움이 됩니다.  \n",
    "이 과정에서 다음과 같은 다양한 주제를 다루게 됩니다:\n",
    "1. 자율주행\n",
    "2. 인공지능\n",
    "3. 딥러닝\n",
    "3. 강화 학습\n",
    "4. 파이썬 프로그래밍\n",
    "5. 클라우드 컴퓨팅\n",
    "6. AWS\n",
    "7. DeepRacer 운영\n",
    "8. 리그 참가 및 다양한 팁  \n",
    "\n",
    "본 과정은 파이썬 프로그래밍 교육이 포함되어 있어, 프로그래밍 지식이 없어도 누구나 쉽게 접근할 수 있습니다.  \n",
    "과정을 진행하면서 AI와 강화 학습의 기본 개념과 실제 응용 사례를 살펴볼 것입니다.  \n",
    "카메라와 LiDAR 센서와 같은 자율주행 기술을 배우고 차량 자율주행의 다양한 수준에 대해 파고들게 됩니다.  \n",
    "AWS DeepRacer 플랫폼을 소개하고 클라우드 컴퓨팅의 장점을 이해할 수 있도록 도와드릴 것입니다. \n",
    "실습을 통해 필수적인 파이썬 프로그래밍 기술을 습득하게 되어, 자신만의 자율주행 모델을 개발할 수 있는 도구를 갖추게 됩니다.  \n",
    "\n",
    "진행하면서 물리적 차량에 모델을 설계, 훈련, 테스트, 배포하는 방법을 배우게 됩니다.  \n",
    "모델이 원활하게 효율적으로 작동하도록 성능 평가와 최적화 기법도 다룰 것입니다.  \n",
    "과정 동안 AWS DeepRacer 리그에서 성공을 거두기 위한 소중한 팁과 전략을 제공하고 협업 및 커뮤니티 참여를 통한 전체적인 학습 경험을 장려할 것입니다.  \n",
    "이 과정을 마치면 AI, 강화 학습, 자율주행 기술에 대한 확고한 이해를 갖게 되어 계속적인 탐구와 혁신을 위한 기반을 마련할 수 있습니다.  \n",
    "AWS DeepRacer와 함께하는 매력적이고 접근하기 쉬운 모험에 참여하세요!"
   ]
  },
  {
   "attachments": {},
   "cell_type": "markdown",
   "metadata": {},
   "source": [
    "## Contact us\n",
    "\n",
    "- email : edu@ai-castle.com"
   ]
  }
 ],
 "metadata": {
  "kernelspec": {
   "display_name": "Python 3",
   "language": "python",
   "name": "python3"
  },
  "language_info": {
   "codemirror_mode": {
    "name": "ipython",
    "version": 3
   },
   "file_extension": ".py",
   "mimetype": "text/x-python",
   "name": "python",
   "nbconvert_exporter": "python",
   "pygments_lexer": "ipython3",
   "version": "3.10.6"
  },
  "orig_nbformat": 4,
  "vscode": {
   "interpreter": {
    "hash": "31f2aee4e71d21fbe5cf8b01ff0e069b9275f58929596ceb00d14d90e3e16cd6"
   }
  }
 },
 "nbformat": 4,
 "nbformat_minor": 2
}
