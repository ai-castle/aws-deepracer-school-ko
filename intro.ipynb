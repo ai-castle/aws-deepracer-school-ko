{
 "cells": [
  {
   "attachments": {},
   "cell_type": "markdown",
   "metadata": {},
   "source": [
    "# AWS DeepRacer School"
   ]
  },
  {
   "attachments": {},
   "cell_type": "markdown",
   "metadata": {},
   "source": [
    "\n",
    "```{admonition} Contact : edu@ai-castle.com\n",
    "- If you are interested in DeepRacer training, please contact AI Castle! \n",
    "- AI Castle has excellent instructors always ready to help.\n",
    "```\n",
    "\n",
    "```{warning}\n",
    "- The copyright of the materials on this site belongs to AI Castle Co., Ltd.\n",
    "- You may not use or distribute the materials on this site for commercial purposes without the permission of AI Castle Co., Ltd.\n",
    "```"
   ]
  },
  {
   "attachments": {},
   "cell_type": "markdown",
   "metadata": {},
   "source": [
    "<video id=\"videoPlayer\" controls width=\"700\" style=\"max-width: 100%;\" controlsList=\"nodownload\">\n",
    "    <source src=\"https://aws-deepracer-school.s3.amazonaws.com/data/en/기타/intro/video.mp4\" type=\"video/mp4\">\n",
    "    <track kind=\"captions\" src=\"https://aws-deepracer-school.s3.amazonaws.com/data/en/기타/intro/vtt/English.vtt\" srclang=\"en\" label=\"English\" default>\n",
    "    <track kind=\"captions\" src=\"https://aws-deepracer-school.s3.amazonaws.com/data/en/기타/intro/vtt/한국어.vtt\" srclang=\"ko\" label=\"한국어\">\n",
    "    <track kind=\"captions\" src=\"https://aws-deepracer-school.s3.amazonaws.com/data/en/기타/intro/vtt/de.vtt\" srclang=\"de\" label=\"Deutsch\">\n",
    "    <track kind=\"captions\" src=\"https://aws-deepracer-school.s3.amazonaws.com/data/en/기타/intro/vtt/Español.vtt\" srclang=\"es\" label=\"Español\">\n",
    "    <track kind=\"captions\" src=\"https://aws-deepracer-school.s3.amazonaws.com/data/en/기타/intro/vtt/Français.vtt\" srclang=\"fr\" label=\"Français\">\n",
    "    <track kind=\"captions\" src=\"https://aws-deepracer-school.s3.amazonaws.com/data/en/기타/intro/vtt/Bahasa Indonesia.vtt\" srclang=\"id\" label=\"Bahasa Indonesia\">\n",
    "    <track kind=\"captions\" src=\"https://aws-deepracer-school.s3.amazonaws.com/data/en/기타/intro/vtt/Italiano.vtt\" srclang=\"it\" label=\"Italiano\">\n",
    "    <track kind=\"captions\" src=\"https://aws-deepracer-school.s3.amazonaws.com/data/en/기타/intro/vtt/日本語.vtt\" srclang=\"ja\" label=\"日本語\">\n",
    "    <track kind=\"captions\" src=\"https://aws-deepracer-school.s3.amazonaws.com/data/en/기타/intro/vtt/Nederlands.vtt\" srclang=\"nl\" label=\"Nederlands\">\n",
    "    <track kind=\"captions\" src=\"https://aws-deepracer-school.s3.amazonaws.com/data/en/기타/intro/vtt/Polski.vtt\" srclang=\"pl\" label=\"Polski\">\n",
    "    <track kind=\"captions\" src=\"https://aws-deepracer-school.s3.amazonaws.com/data/en/기타/intro/vtt/Português.vtt\" srclang=\"pt\" label=\"Português\">\n",
    "    <track kind=\"captions\" src=\"https://aws-deepracer-school.s3.amazonaws.com/data/en/기타/intro/vtt/Русский.vtt\" srclang=\"ru\" label=\"Русский\">\n",
    "    <track kind=\"captions\" src=\"https://aws-deepracer-school.s3.amazonaws.com/data/en/기타/intro/vtt/ภาษาไทย.vtt\" srclang=\"th\" label=\"ภาษาไทย\">\n",
    "    <track kind=\"captions\" src=\"https://aws-deepracer-school.s3.amazonaws.com/data/en/기타/intro/vtt/Türkçe.vtt\" srclang=\"tr\" label=\"Türkçe\">\n",
    "    <track kind=\"captions\" src=\"https://aws-deepracer-school.s3.amazonaws.com/data/en/기타/intro/vtt/Tiếng Việt.vtt\" srclang=\"vi\" label=\"Tiếng Việt\">\n",
    "    <track kind=\"captions\" src=\"https://aws-deepracer-school.s3.amazonaws.com/data/en/기타/intro/vtt/简体中文 (中国).vtt\" srclang=\"zh-CN\" label=\"简体中文 (中国)\">\n",
    "    <track kind=\"captions\" src=\"https://aws-deepracer-school.s3.amazonaws.com/data/en/기타/intro/vtt/繁體中文 (台灣).vtt\" srclang=\"zh-TW\" label=\"繁體中文 (台灣)\">\n",
    "    <track kind=\"captions\" src=\"https://aws-deepracer-school.s3.amazonaws.com/data/en/기타/intro/vtt/繁體中文 (香港).vtt\" srclang=\"zh-HK\" label=\"繁體中文 (香港)\">\n",
    "    <track kind=\"captions\" src=\"https://aws-deepracer-school.s3.amazonaws.com/data/en/기타/intro/vtt/हिन्दी.vtt\" srclang=\"hi\" label=\"हिन्दी\">\n",
    "    <track kind=\"captions\" src=\"https://aws-deepracer-school.s3.amazonaws.com/data/en/기타/intro/vtt/العربية.vtt\" srclang=\"ar\" label=\"العربية\">\n",
    "</video>"
   ]
  },
  {
   "attachments": {},
   "cell_type": "markdown",
   "metadata": {},
   "source": [
    "**Welcome to our Autonomous Car Course featuring AWS DeepRacer!**\n",
    "\n",
    "Embark on an exciting journey into the world of artificial intelligence (AI), reinforcement learning, and self-driving technology with this comprehensive and engaging course.\n",
    "\n",
    "AWS DeepRacer is the fastest way to create your very own autonomous car, offering an unparalleled approach to learning AI and reinforcement learning in an enjoyable and accessible manner.\n",
    "\n",
    "In this course, you'll delve into various topics such as:\n",
    "\n",
    "1. Autonomous driving\n",
    "\n",
    "2. Artificail Intelligence\n",
    "\n",
    "3. Deep learning\n",
    "\n",
    "4. Reinforcement learning\n",
    "\n",
    "5. Python programming\n",
    "\n",
    "6. Cloud computing\n",
    "\n",
    "7. AWS\n",
    "\n",
    "8. DeepRacer operation\n",
    "\n",
    "9. League participation and various tips\n",
    "\n",
    "The course includes Python programming education, ensuring that it is accessible to anyone, even without prior programming knowledge.\n",
    "\n",
    "Throughout the course, you'll explore the fundamentals of AI and reinforcement learning, along with their real-world applications. You'll learn about autonomous driving technologies such as camera and LiDAR sensors and delve into different levels of vehicle autonomy.\n",
    "\n",
    "We'll introduce you to the AWS DeepRacer platform and help you understand the advantages of cloud computing. You'll acquire essential Python programming skills through hands-on exercises, providing you with the tools to develop your own autonomous driving models.\n",
    "\n",
    "As you progress, you'll learn how to design, train, test, and deploy models on physical vehicles. We'll also cover performance evaluation and optimization techniques to ensure your models run smoothly and efficiently.\n",
    "\n",
    "Throughout the course, we'll offer valuable tips and strategies for success in the AWS DeepRacer League and encourage collaboration and community engagement for a well-rounded learning experience.\n",
    "\n",
    "By the end of this course, you'll have a solid understanding of AI, reinforcement learning, and self-driving technologies, setting the foundation for continued exploration and innovation. Join us on this engaging and accessible adventure with AWS DeepRacer! "
   ]
  },
  {
   "attachments": {},
   "cell_type": "markdown",
   "metadata": {},
   "source": [
    "## Contact us\n",
    "\n",
    "- email : edu@ai-castle.com"
   ]
  }
 ],
 "metadata": {
  "kernelspec": {
   "display_name": "Python 3",
   "language": "python",
   "name": "python3"
  },
  "language_info": {
   "codemirror_mode": {
    "name": "ipython",
    "version": 3
   },
   "file_extension": ".py",
   "mimetype": "text/x-python",
   "name": "python",
   "nbconvert_exporter": "python",
   "pygments_lexer": "ipython3",
   "version": "3.10.6"
  },
  "orig_nbformat": 4,
  "vscode": {
   "interpreter": {
    "hash": "31f2aee4e71d21fbe5cf8b01ff0e069b9275f58929596ceb00d14d90e3e16cd6"
   }
  }
 },
 "nbformat": 4,
 "nbformat_minor": 2
}
