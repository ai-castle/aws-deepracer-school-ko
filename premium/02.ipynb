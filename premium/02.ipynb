{
 "cells": [
  {
   "attachments": {},
   "cell_type": "markdown",
   "metadata": {},
   "source": [
    "# 프리미엄 과정 요금"
   ]
  },
  {
   "attachments": {},
   "cell_type": "markdown",
   "metadata": {},
   "source": [
    "\n",
    "<h1> <b> ₩ 63,000</b> </h1>\n",
    "\n",
    "- **멤버 1인당, 3개월 수강 기준**\n",
    "- PPT 무제한 보기\n",
    "- 모든 동영상 강의 무제한 스트리밍\n",
    "- 비디오의 총 분량은 약 6시간\n",
    "- Q&A : 동영상에 댓글달기를 통해 질문하고 답변 받기 가능.\n",
    "- 최소 수강 기간 : 3개월\n",
    "- 부가세 별도\n",
    "---"
   ]
  },
  {
   "attachments": {},
   "cell_type": "markdown",
   "metadata": {},
   "source": [
    "### 요금 할인\n",
    "- 멤버 수 할인 : 50명 이상시 10%, 100명 이상시 20% 추가 할인\n",
    "---"
   ]
  },
  {
   "attachments": {},
   "cell_type": "markdown",
   "metadata": {},
   "source": [
    "### 요금 계산기\n",
    "\n",
    "<div class=\"form-group\">\n",
    "    <label for=\"numStudents\">멤버 수:</label>\n",
    "    <input type=\"number\" id=\"numStudents\" name=\"numStudents\" oninput=\"calculatePrice()\" value=\"1\" min=\"1\">\n",
    "</div>\n",
    "<div class=\"form-group\">\n",
    "    <label for=\"numMonths\">기간 (월):</label>\n",
    "    <input type=\"number\" id=\"numMonths\" name=\"numMonths\" oninput=\"calculatePrice()\" value=\"3\" min=\"3\">\n",
    "</div>\n",
    "<b> <p id=\"result\">전체 요금: ₩ 63000 (할인율: 0%)</p></b>\n",
    "<p> 부가세는 제외 된 금액입니다. </p>\n",
    "<script>\n",
    "    function calculatePrice() {\n",
    "        // 입력값 가져오기\n",
    "        var numStudents = parseInt(document.getElementById(\"numStudents\").value);\n",
    "        var numMonths = parseInt(document.getElementById(\"numMonths\").value);\n",
    "        // 할인 계산\n",
    "        var discountRate = 0;\n",
    "        if (numStudents >= 50) {\n",
    "            discountRate += 0.1;\n",
    "        }\n",
    "        if (numStudents >= 100) {\n",
    "            discountRate += 0.1;\n",
    "        }\n",
    "        // 요금 계산\n",
    "        var basePrice = numStudents * 21000 * numMonths;\n",
    "        var discountAmount = basePrice * discountRate;\n",
    "        var totalPrice = basePrice - discountAmount;\n",
    "        // 결과 출력\n",
    "        var result = \"전체 요금: ₩ \" + totalPrice.toFixed(0) + \" (할인율: \" + (discountRate * 100).toFixed(0) + \"%)\";\n",
    "        document.getElementById(\"result\").innerHTML = result;\n",
    "    }\n",
    "</script>"
   ]
  },
  {
   "attachments": {},
   "cell_type": "markdown",
   "metadata": {},
   "source": [
    "```{note}\n",
    "- 본 과정은 기관 및 조직에서 여러 멤버 및 학생들을 위한 구성입니다.\n",
    "- 만약, 개인 수강자의 경우 인프런에 등록된 \"AWS DeepRacer로 배우는 인공지능과 자율주행\" 강의를 수강하는 것을 권장합니다.\n",
    "  - 링크 : <https://inf.run/suhy>\n",
    "```"
   ]
  }
 ],
 "metadata": {
  "kernelspec": {
   "display_name": "Python 3",
   "language": "python",
   "name": "python3"
  },
  "language_info": {
   "codemirror_mode": {
    "name": "ipython",
    "version": 3
   },
   "file_extension": ".py",
   "mimetype": "text/x-python",
   "name": "python",
   "nbconvert_exporter": "python",
   "pygments_lexer": "ipython3",
   "version": "3.10.6"
  },
  "orig_nbformat": 4,
  "vscode": {
   "interpreter": {
    "hash": "31f2aee4e71d21fbe5cf8b01ff0e069b9275f58929596ceb00d14d90e3e16cd6"
   }
  }
 },
 "nbformat": 4,
 "nbformat_minor": 2
}
