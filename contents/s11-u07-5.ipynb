{
 "cells": [
  {
   "attachments": {},
   "cell_type": "markdown",
   "metadata": {},
   "source": [
    "# 시뮬레이션 모니터링"
   ]
  },
  {
   "attachments": {},
   "cell_type": "markdown",
   "metadata": {},
   "source": [
    "## 포트 및 명령어\n",
    "\n",
    "- 개별 모니터링\n",
    "  -  개별 포트는 8080~8089 사이로 자동 할당 됨\n",
    "  - `docker ps` 명령어를 통해 할당 된 포트를 확인 가능\n",
    "  - 개별 모니터링 접속 : `http://ip주소:개별port`\n",
    "  \n",
    "- 다중 모니터링\n",
    "  - robomaker 모니터링 컨테이너 실행\n",
    "    ```bash\n",
    "    dr-stop-viewer  # 뷰어 중지 (기존에 떠있는 뷰어 컨테이너 종료)\n",
    "    dr-start-viewer  # 뷰어 컨테이너 실행\n",
    "\n",
    "    ```\n",
    "  - 다중 모니터링 접속: `http://ip주소:8100`\n",
    "      - `http://ip주소:8100/?robo=all&camera=kvs_stream&quality=75&width=480`\n"
   ]
  },
  {
   "attachments": {},
   "cell_type": "markdown",
   "metadata": {},
   "source": [
    "---\n",
    "## 다중 뷰어\n",
    "<a href=\"https://aws-deepracer-school.s3.us-east-1.amazonaws.com/DRfC-multi-view.html\" target=\"_blank\">🔗 다중 뷰어 링크 </a>\n"
   ]
  }
 ],
 "metadata": {
  "kernelspec": {
   "display_name": "Python 3",
   "language": "python",
   "name": "python3"
  },
  "language_info": {
   "codemirror_mode": {
    "name": "ipython",
    "version": 3
   },
   "file_extension": ".py",
   "mimetype": "text/x-python",
   "name": "python",
   "nbconvert_exporter": "python",
   "pygments_lexer": "ipython3",
   "version": "3.10.6"
  },
  "orig_nbformat": 4,
  "vscode": {
   "interpreter": {
    "hash": "31f2aee4e71d21fbe5cf8b01ff0e069b9275f58929596ceb00d14d90e3e16cd6"
   }
  }
 },
 "nbformat": 4,
 "nbformat_minor": 2
}
