{
 "cells": [
  {
   "attachments": {},
   "cell_type": "markdown",
   "metadata": {},
   "source": [
    "# 템플릿 등록"
   ]
  },
  {
   "attachments": {},
   "cell_type": "markdown",
   "metadata": {},
   "source": [
    "\n",
    "- AMI 등록이 모두 완료되었으면, 템플릿을 등록합니다.\n",
    "- AMI 는 파일 시스템 환경을 백업한 것을 의미하며, 템플릿은 인스턴스 전반적인 시스템 구성을 정의하는 것입니다.\n",
    "- 아래의 인스턴스 예시에서 원하는 템플릿을 만듭니다."
   ]
  },
  {
   "attachments": {},
   "cell_type": "markdown",
   "metadata": {},
   "source": [
    "### 인스턴스 예시\n",
    "\n",
    "|type|vCPU|Memory|GPU|동시훈련 가능 수|\n",
    "|----|----|------|---|------|\n",
    "|c5.2xlarge|8|16GB||1개|\n",
    "|c5.4xlarge|16|32GB||3개|\n",
    "|g4dn.2xlarge|8|32GB|T4 16GB|1개|\n",
    "|g4dn.4xlarge|16|64GB|T4 16GB|3개|\n",
    "|g4dn.8xlarge|32|128GB|T4 16GB|8개|\n"
   ]
  },
  {
   "attachments": {},
   "cell_type": "markdown",
   "metadata": {},
   "source": [
    "### 템플릿 구성 정보\n",
    "  - 리전 : us-east-1 (버지니아 북부)\n",
    "  - AMI : 앞에서 생성한 AMI 선택\n",
    "  - Instance type : 위의 인스턴스 예시에서 선택 (cpu, gpu 계열 구분)\n",
    "  - 보안그룹 포트\n",
    "    - SSH : 22\n",
    "    - VNC : 5900-5910\n",
    "    - Web Monitoring : 8080-8100\n",
    "    - Jupyter : 8888\n",
    "  - 스토리지 : 40 GB gp2\n",
    "  - Spot 인스턴스\n",
    "  - EC2 Role : S3 FullAccess  "
   ]
  }
 ],
 "metadata": {
  "kernelspec": {
   "display_name": "Python 3",
   "language": "python",
   "name": "python3"
  },
  "language_info": {
   "codemirror_mode": {
    "name": "ipython",
    "version": 3
   },
   "file_extension": ".py",
   "mimetype": "text/x-python",
   "name": "python",
   "nbconvert_exporter": "python",
   "pygments_lexer": "ipython3",
   "version": "3.10.6"
  },
  "orig_nbformat": 4,
  "vscode": {
   "interpreter": {
    "hash": "31f2aee4e71d21fbe5cf8b01ff0e069b9275f58929596ceb00d14d90e3e16cd6"
   }
  }
 },
 "nbformat": 4,
 "nbformat_minor": 2
}
