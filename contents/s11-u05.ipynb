{
 "cells": [
  {
   "attachments": {},
   "cell_type": "markdown",
   "metadata": {},
   "source": [
    "# 모델을 S3로 내보내기 및 가져오기"
   ]
  },
  {
   "attachments": {},
   "cell_type": "markdown",
   "metadata": {},
   "source": [
    "<p style=\"display: flex; justify-content: space-between; align-items: center;\">\n",
    "    <b>Unit 05. 모델을 S3로 내보내기 및 가져오기</b>\n",
    "    <span><b>Section 11. Tips</b></span>\n",
    "</p>"
   ]
  },
  {
   "attachments": {},
   "cell_type": "markdown",
   "metadata": {},
   "source": [
    "---\n",
    "<h3 style=\"display: flex; justify-content: space-between; align-items: center;\">\n",
    "    PPT\n",
    "    <span style=\"font-size: 0.6em;\">\n",
    "        <a href=\"https://www.canva.com/design/DAFhtYD8CcQ/view\" target=\"_blank\">🔗 Link </a>\n",
    "    </span>\n",
    "</h3>"
   ]
  },
  {
   "attachments": {},
   "cell_type": "markdown",
   "metadata": {},
   "source": [
    "<div style=\"position:relative; width:100%; padding-bottom:65%;\">\n",
    "    <iframe \n",
    "        src=\"https://drive.google.com/file/d/1yBhNPJT09kbhKBGaovcEp63zHSQTqQLC/preview\" \n",
    "        style=\"position:absolute; top:0; left:0; width:100%; height:100%\"></iframe>\n",
    "</div>\n"
   ]
  },
  {
   "attachments": {},
   "cell_type": "markdown",
   "metadata": {},
   "source": [
    "---\n",
    "<h3 style=\"display: flex; justify-content: space-between; align-items: center;\">\n",
    "    Video\n",
    "    <span style=\"font-size: 0.7em;\">\n",
    "        <a href=\"../premium/01.html\" target=\"_blank\" title=\"이 영상은 프리미엄 과정에 등록된 계정에서만 볼 수 있습니다\">🚀 프리미엄 과정 </a> \n",
    "    </span>\n",
    "    <span style=\"font-size: 0.6em;\">\n",
    "        <a href=\"\" title=\"인프런에서도 이 영상을 시청할 수 있습니다\"><img src=\"https://cdn.inflearn.com/public/users/thumbnails/234401/660102d4-1e7b-4c43-a7ba-7d0ee6d96b83\" height=\"14px\" style=\"vertical-align: middle; padding-right: 3px;\"> 인프런</a> |\n",
    "        <a href=\"https://drive.google.com/file/d/10C9BsnodF7YMaI95HEf_2lxC5yLgzhhK\" target=\"_blank\">🔗 Link </a>\n",
    "    </span>\n",
    "</h3>"
   ]
  },
  {
   "attachments": {},
   "cell_type": "markdown",
   "metadata": {},
   "source": [
    "<div style=\"position:relative; width:100%; padding-bottom:65%;\">\n",
    "    <iframe \n",
    "        src=\"https://drive.google.com/file/d/AAAAAAAAAAAAAAAAAAAAAAAAAAAA/preview\" \n",
    "        style=\"position:absolute; top:0; left:0; width:100%; height:100%\"></iframe>\n",
    "</div>\n"
   ]
  },
  {
   "attachments": {},
   "cell_type": "markdown",
   "metadata": {},
   "source": [
    "<div style=\"position: relative; width: 100%; height: 0; padding-top: 56.2500%;\n",
    " padding-bottom: 0; box-shadow: 0 2px 8px 0 rgba(63,69,81,0.16); margin-top: 1.6em; margin-bottom: 0.9em; overflow: hidden;\n",
    " border-radius: 8px; will-change: transform;\">\n",
    "  <iframe loading=\"lazy\" style=\"position: absolute; width: 100%; height: 100%; top: 0; left: 0; border: none; padding: 0;margin: 0;\"\n",
    "    src=\"https://drive.google.com/file/d/10C9BsnodF7YMaI95HEf_2lxC5yLgzhhK/preview\" \n",
    "    allowfullscreen=\"allowfullscreen\" \n",
    "    allow=\"fullscreen\">\n",
    "  </iframe>\n",
    "</div>"
   ]
  },
  {
   "attachments": {},
   "cell_type": "markdown",
   "metadata": {},
   "source": [
    "```{important}\n",
    "- 영상은 **크롬 웹브라우저**를 사용할 것을 적극 권장합니다.\n",
    "- 영상은 **프리미엄 과정**에 등록된 구글 계정에서만 보입니다.\n",
    "  - 프리미엄 과정에 등록되었는데도 영상이 보이지 않나요?  \n",
    "  - <a href=\"../premium/04.html\" target=\"_blank\">비디오 재생문제 해결하기</a>\n",
    "- **Q&A 댓글 달기** : 영상 우측 상단 `새 탭에서 보기` 버튼을 클릭하면 영상에 질문 댓글을 작성할 수 있습니다.\n",
    "```"
   ]
  },
  {
   "attachments": {},
   "cell_type": "markdown",
   "metadata": {},
   "source": [
    "---\n",
    "## Resources\n",
    "\n",
    "- Page 16 (S3에서 모델이 담긴 폴더 압축하기)  \n",
    "  : <https://github.com/ai-castle/deepracer-lecture-public-data/blob/main/section_11/Compress_File_of_S3_Folder_in_CloudShell.md>"
   ]
  }
 ],
 "metadata": {
  "kernelspec": {
   "display_name": "Python 3",
   "language": "python",
   "name": "python3"
  },
  "language_info": {
   "codemirror_mode": {
    "name": "ipython",
    "version": 3
   },
   "file_extension": ".py",
   "mimetype": "text/x-python",
   "name": "python",
   "nbconvert_exporter": "python",
   "pygments_lexer": "ipython3",
   "version": "3.10.6"
  },
  "orig_nbformat": 4,
  "vscode": {
   "interpreter": {
    "hash": "31f2aee4e71d21fbe5cf8b01ff0e069b9275f58929596ceb00d14d90e3e16cd6"
   }
  }
 },
 "nbformat": 4,
 "nbformat_minor": 2
}
