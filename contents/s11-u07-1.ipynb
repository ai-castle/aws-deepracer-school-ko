{
 "cells": [
  {
   "attachments": {},
   "cell_type": "markdown",
   "metadata": {},
   "source": [
    "# AMI 등록"
   ]
  },
  {
   "attachments": {},
   "cell_type": "markdown",
   "metadata": {},
   "source": [
    "- 기본적으로 설치해야 할 것들이 많습니다.\n",
    "- 매번 인스턴스를 켜서 새로 설치하는 것은 번거로운 일이기 때문에 AMI 를 등록해 놓는 것이 좋습니다.\n",
    "- 특히, Spot(경매)의 경우 언제든 인스턴스가 종료 될 수 있기 때문에 이러한 과정은 반드시 필요합니다.\n",
    "- AMI를 등록할 때, cpu 계열과 gpu 계열 인스턴스를 구분하여 따로 등록해야 합니다.\n",
    "  - AMI 등록 과정에서는 비싼 인스턴스로 할 필요가 없기 때문에 아래와 같은 비교적 저렴한 인스턴스 타입을 권장합니다.\n",
    "  - cpu 계열은 c5 인스턴스 패밀리를 권장하며, 비교적 저렴한 c5.2xlarge를 추천\n",
    "  - gpu 계열은 g4dn 인스턴스 패밀리를 권장하며, 비교적 저렴한 g4dn.2xlagre를 추천"
   ]
  },
  {
   "attachments": {},
   "cell_type": "markdown",
   "metadata": {},
   "source": [
    "## (1) 인스턴스 생성\n",
    "  - 리전 : us-east-1 (버지니아 북부)\n",
    "  - AMI : ubuntu20.04\n",
    "  - Instance type : 아래 중 하나 선택\n",
    "    - c5.2xlarge (cpu 계열)\n",
    "    - g4dn.2xlagre (gpu 계열)\n",
    "  - 보안그룹 포트\n",
    "    - SSH : 22\n",
    "    - VNC : 5900-5910\n",
    "    - Web Monitoring : 8080-8100\n",
    "    - Jupyter : 8888\n",
    "  - 스토리지 : 40 GB gp2\n",
    "  - Spot 인스턴스\n",
    "  - EC2 Role : S3 FullAccess  \n"
   ]
  },
  {
   "attachments": {},
   "cell_type": "markdown",
   "metadata": {},
   "source": [
    "### (2) 인스턴스 ssh 연결\n",
    "\n",
    "- `EC2 인스턴스 연결`을 통해 웹브라우저 상에서 ssh 접속이 가능합니다."
   ]
  },
  {
   "attachments": {},
   "cell_type": "markdown",
   "metadata": {},
   "source": [
    "### (3) 필수 구성요소 설치  (로컬에서는 하지 않는게 좋음)\n",
    "- ```bash\n",
    "  # 루트 사용자 전환\n",
    "  sudo su\n",
    "  \n",
    "  ```\n",
    "\n",
    "- ```bash\n",
    "  # DRfC git 레파지토리 클론\n",
    "  cd ~\n",
    "  git clone https://github.com/aws-deepracer-community/deepracer-for-cloud.git\n",
    "\n",
    "  # 작업폴더 이동\n",
    "  cd ~/deepracer-for-cloud\n",
    "\n",
    "  # 드라이브 분할 및 필수 구성 요소 설치 \n",
    "  ./bin/prepare.sh\n",
    "  \n",
    "  ```"
   ]
  },
  {
   "attachments": {},
   "cell_type": "markdown",
   "metadata": {},
   "source": [
    "### (4)  재부팅\n",
    "- ```bash\n",
    "  sudo reboot now\n",
    "  \n",
    "  ```"
   ]
  },
  {
   "attachments": {},
   "cell_type": "markdown",
   "metadata": {},
   "source": [
    "### (5) 인스턴스 ssh 재연결"
   ]
  },
  {
   "attachments": {},
   "cell_type": "markdown",
   "metadata": {},
   "source": [
    "### (6) 전체 리포지토리 설정 및 핵심 Docker 이미지 다운로드 \n",
    "- 인스턴스 옵션 1 : cpu (c5)\n",
    "  ```bash\n",
    "  cd ~/deepracer-for-cloud\n",
    "  ./bin/init.sh -c aws -a cpu\n",
    "  \n",
    "  ```\n",
    "- 인스턴스 옵션 2 : gpu (g4dn)\n",
    "  ```bash\n",
    "  cd ~/deepracer-for-cloud\n",
    "  ./bin/init.sh -c aws -a gpu\n",
    "  \n",
    "  ```"
   ]
  },
  {
   "attachments": {},
   "cell_type": "markdown",
   "metadata": {},
   "source": [
    "### (7) 유틸리티 설치\n",
    "- tmux (백그라운드 다중 터미널 도구)\n",
    "  ```bash\n",
    "  # nmon 설치\n",
    "  sudo apt install tmux\n",
    "\n",
    "  ```\n",
    "\n",
    "- nmon (Linux 운영 체제용 컴퓨터 성능 시스템 모니터 도구)\n",
    "  ```bash\n",
    "  # nmon 설치\n",
    "  sudo apt install nmon\n",
    "\n",
    "  ```\n",
    "\n",
    "- gpustat 설치 (GPU 모니터링)\n",
    "  ```bash\n",
    "  # pip 인스톨\n",
    "  sudo apt install -y python3-pip\n",
    "  \n",
    "  ```\n",
    "  ```bash\n",
    "  # gpustat 설치\n",
    "  pip3 install gpustat\n",
    "  \n",
    "  ```"
   ]
  }
 ],
 "metadata": {
  "kernelspec": {
   "display_name": "Python 3",
   "language": "python",
   "name": "python3"
  },
  "language_info": {
   "codemirror_mode": {
    "name": "ipython",
    "version": 3
   },
   "file_extension": ".py",
   "mimetype": "text/x-python",
   "name": "python",
   "nbconvert_exporter": "python",
   "pygments_lexer": "ipython3",
   "version": "3.10.6"
  },
  "orig_nbformat": 4,
  "vscode": {
   "interpreter": {
    "hash": "31f2aee4e71d21fbe5cf8b01ff0e069b9275f58929596ceb00d14d90e3e16cd6"
   }
  }
 },
 "nbformat": 4,
 "nbformat_minor": 2
}
