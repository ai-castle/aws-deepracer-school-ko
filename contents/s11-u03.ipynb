{
 "cells": [
  {
   "attachments": {},
   "cell_type": "markdown",
   "metadata": {},
   "source": [
    "# multi user mode"
   ]
  },
  {
   "attachments": {},
   "cell_type": "markdown",
   "metadata": {},
   "source": [
    "**Section 11. Tips**  \n",
    "**Unit 03. multi user mode**"
   ]
  },
  {
   "attachments": {},
   "cell_type": "markdown",
   "metadata": {},
   "source": [
    "---\n",
    "<h3>PPT <a href=\"\" target=\"_blank\"><span style=\"font-size: 0.6em;\">🔗</span></a></h3>"
   ]
  },
  {
   "cell_type": "markdown",
   "metadata": {},
   "source": []
  },
  {
   "attachments": {},
   "cell_type": "markdown",
   "metadata": {},
   "source": [
    "---\n",
    "<h3>Video <a href=\"\" target=\"_blank\"><span style=\"font-size: 0.6em;\">🔗</span></a></h3>\n",
    "<p title=\"이 영상은 접근 권한을 부여받은 구글 계정에서만 보여집니다. 접근 권한을 얻으려면 (주)에이아이캐슬에 문의하세요. 만약 접근 권한을 가진 구글 계정임에도 보이지 않는다면, 구글 계정에 로그인한 후에 다시 시도해보세요.\">이 영상은 인증된 사용자에게만 보여집니다.<i class=\"fa fa-info-circle\"></i></p>"
   ]
  },
  {
   "cell_type": "markdown",
   "metadata": {},
   "source": []
  }
 ],
 "metadata": {
  "kernelspec": {
   "display_name": "Python 3",
   "language": "python",
   "name": "python3"
  },
  "language_info": {
   "codemirror_mode": {
    "name": "ipython",
    "version": 3
   },
   "file_extension": ".py",
   "mimetype": "text/x-python",
   "name": "python",
   "nbconvert_exporter": "python",
   "pygments_lexer": "ipython3",
   "version": "3.10.6"
  },
  "orig_nbformat": 4,
  "vscode": {
   "interpreter": {
    "hash": "31f2aee4e71d21fbe5cf8b01ff0e069b9275f58929596ceb00d14d90e3e16cd6"
   }
  }
 },
 "nbformat": 4,
 "nbformat_minor": 2
}
