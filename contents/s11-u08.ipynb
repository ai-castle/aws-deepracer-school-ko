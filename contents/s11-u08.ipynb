{
 "cells": [
  {
   "attachments": {},
   "cell_type": "markdown",
   "metadata": {},
   "source": [
    "# Resources"
   ]
  },
  {
   "attachments": {},
   "cell_type": "markdown",
   "metadata": {},
   "source": [
    "<p style=\"display: flex; justify-content: space-between; align-items: center;\">\n",
    "    <b>Unit 08. Resources</b>\n",
    "    <span><b>Section 11. Tips</b></span>\n",
    "</p>"
   ]
  },
  {
   "attachments": {},
   "cell_type": "markdown",
   "metadata": {},
   "source": [
    "---\n",
    "\n",
    "- [AWS 홈페이지](https://www.aws.com)  \n",
    "- [AWS 콘솔 페이지](https://console.aws.amazon.com)\n",
    "- [딥레이서 공식 웹사이트](https://aws.amazon.com/deepracer)\n",
    "\n",
    "- [시행착오 (Youtube)](https://youtu.be/eVccQ82BekI)\n",
    "- [숨바꼭질 (Youtube)](https://youtu.be/kopoLzvh5jY)\n",
    "\n",
    "- [딥레이서 요금](https://aws.amazon.com/deepracer/pricing)\n",
    "- [딥레이서 실제 차량 판매처](https://www.amazon.com/AWS-DeepRacer-Fully-autonomous-developers/dp/B07JMHRKQG?th=1)\n",
    "\n",
    "- [DeepRacer Student](https://student.deepracer.com/)\n",
    "  \n",
    "- DeepRacer League\n",
    "  - [WebPage](https://aws.amazon.com/deepracer/league)\n",
    "  - [Docs](https://d1.awsstatic.com/deepracer/AWS_DEEPRACER_Virtual_Circuit_Rules_FINAL_3_1_2023.pdf)\n",
    "  \n",
    "- [탁구치는 비둘기](https://youtu.be/vGazyH6fQQ4)\n",
    "  \n",
    "- [할인계수 감가율 그래프](https://github.com/ai-castle/deepracer-lecture-public-data/blob/main/section_06/Discount_Factor_Rate.ipynb)\n",
    "  \n",
    "- [구글 드라이브](https://drive.google.com)\n",
    "  \n",
    "- [파이썬 실습 (전체 자료 다운로드)](https://github.com/ai-castle/deepracer-lecture-public-data/raw/main/section_07/jupyter_notebook/clear_outputs/한국어/압축.zip)\n",
    "  \n",
    "- [보상함수의 입력 파라미터](https://docs.aws.amazon.com/deepracer/latest/developerguide/deepracer-reward-function-input.html)\n",
    "  \n",
    "- [트랙 웨이포인트 시각화](https://colab.research.google.com/github/ai-castle/deepracer-lecture-public-data/blob/main/section_08/Track_Waypoints_Visualization.ipynb)\n",
    "  \n",
    "- [트랙 정보 확인](https://github.com/aws-deepracer-community/deepracer-race-data/tree/main/raw_data/tracks)\n",
    "  \n",
    "- [입력 파라미터 실제 셈플](https://github.com/ai-castle/deepracer-lecture-public-data/blob/main/section_08/Input_params_samples.ipynb)\n",
    "  \n",
    "- [다운로드 로그 셈플](https://github.com/ai-castle/deepracer-lecture-public-data/tree/main/log_data_samples)\n",
    "  \n",
    "- 로그 분석 예제\n",
    "  - [실습 예제](https://colab.research.google.com/github/ai-castle/deepracer-lecture-public-data/blob/main/section_09/Log_Analysis.ipynb)\n",
    "  - [More](https://github.com/aws-deepracer-community/deepracer-analysis)\n",
    "  \n",
    "  \n",
    "- [디바이스 콘솔](https://deepracer.aws)\n",
    "  \n",
    "- [딥레이서 콘솔](https://console.aws.amazon.com/deepracer)\n",
    "  \n",
    "- [트랙 구축 방법](https://docs.aws.amazon.com/deepracer/latest/developerguide/deepracer-build-your-track.html)\n",
    "  \n",
    "- [트랙 및 펜스 구매](https://www.amazon.com/gp/browse.html?node=32957528011)\n",
    "  \n",
    "- [S3에서 모델이 담긴 폴더 압축하기](https://github.com/ai-castle/deepracer-lecture-public-data/blob/main/section_11/Compress_File_of_S3_Folder_in_CloudShell.md)\n",
    "  \n",
    "- [클라우드쉘에서 딥레이서 모델 제출 자동화 스크립트](https://github.com/ai-castle/deepracer-lecture-public-data/blob/main/section_11/Automated_Model_Submission_in_CloudShell.md)\n",
    "  \n",
    "- [DRfC(DeepRacer for Cloud)](https://aws-deepracer-community.github.io/deepracer-for-cloud)\n",
    "  \n",
    "---\n",
    "\n",
    "- [AWS DeepRacer Community](https://deepracing.io/)\n",
    "  - [slack](http://join.deepracing.io/)\n",
    "  - [blog](https://blog.deepracing.io/)\n",
    "  - [Wiki](https://wiki.deepracing.io/)\n",
    "    - [Sample Reward Function](https://wiki.deepracing.io/Training_the_AWS_DeepRacer#Sample_rewards)\n",
    "    - [Customise Local Training](https://wiki.deepracing.io/Customise_Local_Training)\n",
    "\n",
    "---\n",
    "- [How to train a model in 15 minutes](https://falktan.medium.com/aws-deepracer-how-to-train-a-model-in-15-minutes-a07ab77fb793)\n",
    "\n",
    "- [Capston](https://github.com/dgnzlz/Capstone_AWS_DeepRacer)\n",
    "  - [Compute_Speed_And_Actions](https://github.com/dgnzlz/Capstone_AWS_DeepRacer/tree/master/Compute_Speed_And_Actions)\n",
    "    - [Race-Line-Calculation.ipynb](https://github.com/dgnzlz/Capstone_AWS_DeepRacer/blob/master/Compute_Speed_And_Actions/Race-Line-Calculation.ipynb)\n",
    "    - [RaceLine_Speed_ActionSpace.ipynb](https://github.com/dgnzlz/Capstone_AWS_DeepRacer/blob/master/Compute_Speed_And_Actions/RaceLine_Speed_ActionSpace.ipynb)\n",
    "      - [재구성 Colab 바로가기](https://colab.research.google.com/github/ai-castle/deepracer-lecture-public-data/blob/main/section_11/RaceLine_Speed_ActionSpace.ipynb)\n",
    "  - [Reward_Function](https://github.com/dgnzlz/Capstone_AWS_DeepRacer/blob/master/Reward_Function/reward_function.py)"
   ]
  }
 ],
 "metadata": {
  "kernelspec": {
   "display_name": "Python 3",
   "language": "python",
   "name": "python3"
  },
  "language_info": {
   "codemirror_mode": {
    "name": "ipython",
    "version": 3
   },
   "file_extension": ".py",
   "mimetype": "text/x-python",
   "name": "python",
   "nbconvert_exporter": "python",
   "pygments_lexer": "ipython3",
   "version": "3.10.6"
  },
  "orig_nbformat": 4,
  "vscode": {
   "interpreter": {
    "hash": "31f2aee4e71d21fbe5cf8b01ff0e069b9275f58929596ceb00d14d90e3e16cd6"
   }
  }
 },
 "nbformat": 4,
 "nbformat_minor": 2
}
