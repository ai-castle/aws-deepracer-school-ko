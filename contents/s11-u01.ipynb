{
 "cells": [
  {
   "attachments": {},
   "cell_type": "markdown",
   "metadata": {},
   "source": [
    "# Tips"
   ]
  },
  {
   "attachments": {},
   "cell_type": "markdown",
   "metadata": {},
   "source": [
    "**Section 11. Tips**\n",
    "\n",
    "**Unit 01. Section Introduction**"
   ]
  },
  {
   "attachments": {},
   "cell_type": "markdown",
   "metadata": {},
   "source": [
    "<video id=\"videoPlayer\" controls width=\"800\" style=\"max-width: 100%;\" controlsList=\"nodownload\">\n",
    "    <source src=\"https://aws-deepracer-school.s3.amazonaws.com/data/en/s11/u01/video.mp4\" type=\"video/mp4\">\n",
    "    <track kind=\"captions\" src=\"https://aws-deepracer-school.s3.amazonaws.com/data/en/s11/u01/vtt/English.vtt\" srclang=\"en\" label=\"English\" default>\n",
    "    <track kind=\"captions\" src=\"https://aws-deepracer-school.s3.amazonaws.com/data/en/s11/u01/vtt/한국어.vtt\" srclang=\"ko\" label=\"한국어\">\n",
    "    <track kind=\"captions\" src=\"https://aws-deepracer-school.s3.amazonaws.com/data/en/s11/u01/vtt/de.vtt\" srclang=\"de\" label=\"Deutsch\">\n",
    "    <track kind=\"captions\" src=\"https://aws-deepracer-school.s3.amazonaws.com/data/en/s11/u01/vtt/Español.vtt\" srclang=\"es\" label=\"Español\">\n",
    "    <track kind=\"captions\" src=\"https://aws-deepracer-school.s3.amazonaws.com/data/en/s11/u01/vtt/Français.vtt\" srclang=\"fr\" label=\"Français\">\n",
    "    <track kind=\"captions\" src=\"https://aws-deepracer-school.s3.amazonaws.com/data/en/s11/u01/vtt/Bahasa Indonesia.vtt\" srclang=\"id\" label=\"Bahasa Indonesia\">\n",
    "    <track kind=\"captions\" src=\"https://aws-deepracer-school.s3.amazonaws.com/data/en/s11/u01/vtt/Italiano.vtt\" srclang=\"it\" label=\"Italiano\">\n",
    "    <track kind=\"captions\" src=\"https://aws-deepracer-school.s3.amazonaws.com/data/en/s11/u01/vtt/日本語.vtt\" srclang=\"ja\" label=\"日本語\">\n",
    "    <track kind=\"captions\" src=\"https://aws-deepracer-school.s3.amazonaws.com/data/en/s11/u01/vtt/Nederlands.vtt\" srclang=\"nl\" label=\"Nederlands\">\n",
    "    <track kind=\"captions\" src=\"https://aws-deepracer-school.s3.amazonaws.com/data/en/s11/u01/vtt/Polski.vtt\" srclang=\"pl\" label=\"Polski\">\n",
    "    <track kind=\"captions\" src=\"https://aws-deepracer-school.s3.amazonaws.com/data/en/s11/u01/vtt/Português.vtt\" srclang=\"pt\" label=\"Português\">\n",
    "    <track kind=\"captions\" src=\"https://aws-deepracer-school.s3.amazonaws.com/data/en/s11/u01/vtt/Русский.vtt\" srclang=\"ru\" label=\"Русский\">\n",
    "    <track kind=\"captions\" src=\"https://aws-deepracer-school.s3.amazonaws.com/data/en/s11/u01/vtt/ภาษาไทย.vtt\" srclang=\"th\" label=\"ภาษาไทย\">\n",
    "    <track kind=\"captions\" src=\"https://aws-deepracer-school.s3.amazonaws.com/data/en/s11/u01/vtt/Türkçe.vtt\" srclang=\"tr\" label=\"Türkçe\">\n",
    "    <track kind=\"captions\" src=\"https://aws-deepracer-school.s3.amazonaws.com/data/en/s11/u01/vtt/Tiếng Việt.vtt\" srclang=\"vi\" label=\"Tiếng Việt\">\n",
    "    <track kind=\"captions\" src=\"https://aws-deepracer-school.s3.amazonaws.com/data/en/s11/u01/vtt/简体中文 (中国).vtt\" srclang=\"zh-CN\" label=\"简体中文 (中国)\">\n",
    "    <track kind=\"captions\" src=\"https://aws-deepracer-school.s3.amazonaws.com/data/en/s11/u01/vtt/繁體中文 (台灣).vtt\" srclang=\"zh-TW\" label=\"繁體中文 (台灣)\">\n",
    "    <track kind=\"captions\" src=\"https://aws-deepracer-school.s3.amazonaws.com/data/en/s11/u01/vtt/繁體中文 (香港).vtt\" srclang=\"zh-HK\" label=\"繁體中文 (香港)\">\n",
    "    <track kind=\"captions\" src=\"https://aws-deepracer-school.s3.amazonaws.com/data/en/s11/u01/vtt/हिन्दी.vtt\" srclang=\"hi\" label=\"हिन्दी\">\n",
    "    <track kind=\"captions\" src=\"https://aws-deepracer-school.s3.amazonaws.com/data/en/s11/u01/vtt/العربية.vtt\" srclang=\"ar\" label=\"العربية\">\n",
    "</video>"
   ]
  }
 ],
 "metadata": {
  "kernelspec": {
   "display_name": "Python 3",
   "language": "python",
   "name": "python3"
  },
  "language_info": {
   "codemirror_mode": {
    "name": "ipython",
    "version": 3
   },
   "file_extension": ".py",
   "mimetype": "text/x-python",
   "name": "python",
   "nbconvert_exporter": "python",
   "pygments_lexer": "ipython3",
   "version": "3.10.6"
  },
  "orig_nbformat": 4,
  "vscode": {
   "interpreter": {
    "hash": "31f2aee4e71d21fbe5cf8b01ff0e069b9275f58929596ceb00d14d90e3e16cd6"
   }
  }
 },
 "nbformat": 4,
 "nbformat_minor": 2
}
